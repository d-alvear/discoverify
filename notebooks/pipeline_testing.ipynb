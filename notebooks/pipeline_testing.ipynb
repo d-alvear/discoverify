{
 "cells": [
  {
   "cell_type": "markdown",
   "metadata": {},
   "source": [
    "## Pipeline Testing\n",
    "Outlining the app's general algorithm.\n",
    "\n",
    "__Steps:__\n",
    "\n",
    "0. Authenticate user\n",
    "1. Receive Song from User\n",
    "2. Request `track_id` from Spotify API\n",
    "\n",
    "    2a. Search database for the song input (check if the song is in the database)\n",
    "    \n",
    "    2b. Else request the song from the Spotify API\n",
    "    \n",
    "\n",
    "3. Gather & generate the songs audio features\n",
    "\n",
    "    3a. Either from the database\n",
    "    \n",
    "    3b. Request features from API\n",
    "    \n",
    "    3c. Run mp3 through librosa pipeline\n",
    "    \n",
    "4. Clean features (scale them, remove unnecessary features)\n",
    "5. Filter database for songs that contain the input's first genre, in either of the three top genres\n",
    "6. Calculate cosine similarity\n",
    "7. Use top 10 matches\n",
    "8. Generate Spotify playlist in user's account"
   ]
  },
  {
   "cell_type": "code",
   "execution_count": null,
   "metadata": {},
   "outputs": [],
   "source": []
  }
 ],
 "metadata": {
  "kernelspec": {
   "display_name": "Python 3.7.4 64-bit ('base': conda)",
   "language": "python",
   "name": "python37464bitbasecondac7c36b3ee45842fa81c4a32b76c13679"
  },
  "language_info": {
   "codemirror_mode": {
    "name": "ipython",
    "version": 3
   },
   "file_extension": ".py",
   "mimetype": "text/x-python",
   "name": "python",
   "nbconvert_exporter": "python",
   "pygments_lexer": "ipython3",
   "version": "3.7.4"
  }
 },
 "nbformat": 4,
 "nbformat_minor": 4
}
